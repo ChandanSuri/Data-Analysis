{
 "cells": [
  {
   "cell_type": "code",
   "execution_count": null,
   "metadata": {},
   "outputs": [],
   "source": [
    "# Linear Regression on a categorical variable using one-hot and dummy codes\n",
    "import pandas\n",
    "from sklearn import linear_model\n",
    "\n",
    "# Define a toy dataset of apartment rental prices in 3 cities\n",
    "df = pd.DataFrame({'City': ['SF', 'SF', 'SF', 'NYC', 'NYC', 'NYC', 'Seattle', 'Seattle', 'Seattle'], 'Rent': [3999, 4000, 4001, 3499, 3500, 3501, 2499, 2500, 2501]})\n",
    "print(df['Rent'].mean())"
   ]
  },
  {
   "cell_type": "code",
   "execution_count": null,
   "metadata": {},
   "outputs": [],
   "source": [
    "# Convert the categorical vars in the DataFrame to one-hot encoding and fit a linear regression model\n",
    "one_hot_df = pd.get_dummies(df, prefix=['city'])\n",
    "print(one_hot_df)\n",
    "\n",
    "model = linear_regression.LinearRegression()\n",
    "model.fit(one_hot_df[['city_NYC', 'city_SF', 'city_Seattle']], one_hot_df['Rent'])\n",
    "print(model.coef_)\n",
    "print(model.intercept_)\n",
    "\n",
    "# Train a linear regression model on dummy code\n",
    "# Specify the 'drop_first' flag to get dummy coding\n",
    "dummy_df = pd.get_dummies(df, prefix=['city'], drop_first=True)\n",
    "print(dummy_df)\n",
    "\n",
    "model.fit(dummy_df[['city_SF', 'city_Seattle']], dummy_df['Rent'])\n",
    "print(model.coef_)\n",
    "print(model.intercept_)"
   ]
  },
  {
   "cell_type": "code",
   "execution_count": null,
   "metadata": {},
   "outputs": [],
   "source": [
    "# Effect Coding -> Though not much used...\n",
    "effect_df = dummy_df.copy()\n",
    "effect_df.ix[3:5, ['city_SF', 'city_Seattle']] = -1.0\n",
    "print(effect_df)\n",
    "\n",
    "model.fit(effect_df[['city_SF', 'city_Seattle']], effect_df['Rent'])\n",
    "print(model.coef_)\n",
    "print(model.intercept_)"
   ]
  },
  {
   "cell_type": "code",
   "execution_count": null,
   "metadata": {},
   "outputs": [],
   "source": [
    "# Dealing with large categorical variables"
   ]
  },
  {
   "cell_type": "code",
   "execution_count": null,
   "metadata": {},
   "outputs": [],
   "source": [
    "# FEATURE HASHING\n",
    "def hash_features(word_list, m):\n",
    "    output = [0]*m\n",
    "    for word in word_list:\n",
    "        index = hash_func(word) % m # not defined\n",
    "        output[index] += 1\n",
    "    return output"
   ]
  },
  {
   "cell_type": "code",
   "execution_count": null,
   "metadata": {},
   "outputs": [],
   "source": [
    "# SIGNED FEATURE HASHING\n",
    "def hash_features(word_list, m):\n",
    "    output = [0]*m\n",
    "    for word in word_list:\n",
    "        index = hash_func(word) % m # not defined, use any\n",
    "        sign_bit = sign_hash(word) % 2 # not defined, use any\n",
    "        if(sign_bit==0):\n",
    "            output[index] -= 1\n",
    "        else:\n",
    "            output[index] += 1\n",
    "    return output"
   ]
  },
  {
   "cell_type": "code",
   "execution_count": null,
   "metadata": {},
   "outputs": [],
   "source": [
    "# Feature Hashing on Yelp Reviews Dataset\n",
    "import pandas as pd\n",
    "import json\n",
    "\n",
    "\n",
    "# Load reviews\n",
    "f = open('yelp_academic_dataset_review.json')\n",
    "js = []\n",
    "for i in range(10000):\n",
    "    js.append(json.loads(f.readline()))\n",
    "f.close()\n",
    "review_df = pd.DataFrame(js)"
   ]
  },
  {
   "cell_type": "code",
   "execution_count": null,
   "metadata": {},
   "outputs": [],
   "source": [
    "# Define m as equal to the unique number of business_ids\n",
    "m = len(review_df.business_id.unique())\n",
    "print(m)\n",
    "\n",
    "from sklearn.feature_extraction impotr FeatureHasher\n",
    "h = FeatureHasher(n_features=m, input_type='string')\n",
    "f = h.transform(review_df['business_id'])\n",
    "print(review_df['business_id'].unique().tolist()[0:5])\n",
    "print(f.toarray())\n",
    "\n",
    "# Storage Size of our features\n",
    "from sys import getsizeof\n",
    "print(\"Our pandas Series, in bytes: \", getsizeof(review_df['business_id']))\n",
    "print(\"Our Hashed numpy array, in bytes: \", getsizeof(f))"
   ]
  },
  {
   "cell_type": "code",
   "execution_count": null,
   "metadata": {},
   "outputs": [],
   "source": [
    "# BIN COUNTING\n",
    "# Dataset used in Kaggle competition hosted by Avazu\n",
    "import pandas as pd\n",
    "df = pd.read_csv('data/train_subset.csv')\n",
    "print(len(df['device_id'].unique())) # number of unique features\n",
    "\n",
    "# For each category, we calculate:\n",
    "# Theta = [counts, p(click), p(no click), p(click)/p(no click)]\n",
    "\n",
    "def click_counting(x, bin_column):\n",
    "    clicks = pd.Series(x[x['click'] > 0][bin_column].value_counts(), name='clicks')\n",
    "    no_clicks = pd.Series(x[x['click'] < 1][bin_column].value_counts(), name='no_clicks')\n",
    "    counts = pd.DataFrame([clicks, no_clicks]).T.fillna('0')\n",
    "    counts['total_clicks'] = counts['clicks'].astype('int64') + counts['no_clicks'].astype('int64')\n",
    "    return counts\n",
    "\n",
    "def bin_counting(counts):\n",
    "    counts['N+'] = counts['clicks'].astype('int64').divide(counts['total_clicks'].astype('int64'))\n",
    "    counts['N-'] = counts['no_clicks'].astype('int64').divide(counts['total_clicks'].astype('int64'))\n",
    "    counts['log_N+'] = counts['N+'].divide(counts['N-'])\n",
    "    # Only bin counting categories\n",
    "    bin_counts = counts.filter(items = ['N+', 'N-', 'log_N+'])\n",
    "    return counts, bin_counts\n",
    "\n",
    "bin_column = 'device_id'\n",
    "device_clicks = click_counting(df.filter(items = [bin_column, 'click']), bin_column)\n",
    "device_all, device_bin_counts = bin_counting(device_clicks)\n",
    "print(len(device_bin_counts))\n",
    "\n",
    "all_devices_sample = device_all.sort_values(by = 'total_clicks', ascending = False).head(4)\n",
    "print(all_devices_sample)"
   ]
  }
 ],
 "metadata": {
  "kernelspec": {
   "display_name": "Python 3",
   "language": "python",
   "name": "python3"
  },
  "language_info": {
   "codemirror_mode": {
    "name": "ipython",
    "version": 3
   },
   "file_extension": ".py",
   "mimetype": "text/x-python",
   "name": "python",
   "nbconvert_exporter": "python",
   "pygments_lexer": "ipython3",
   "version": "3.6.5"
  }
 },
 "nbformat": 4,
 "nbformat_minor": 2
}
