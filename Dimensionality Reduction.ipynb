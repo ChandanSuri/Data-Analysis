{
 "cells": [
  {
   "cell_type": "markdown",
   "metadata": {},
   "source": [
    "![Derivation of PCA - 1](Images/SVD-1.jpg)"
   ]
  },
  {
   "cell_type": "markdown",
   "metadata": {},
   "source": [
    "![Derivation of PCA - 2](Images/SVD-2.jpg)"
   ]
  },
  {
   "cell_type": "markdown",
   "metadata": {},
   "source": [
    "![Derivation of PCA - 3](Images/SVD-3.jpg)"
   ]
  },
  {
   "cell_type": "code",
   "execution_count": null,
   "metadata": {},
   "outputs": [],
   "source": [
    "# PCA\n",
    "from sklearn import datasets\n",
    "from sklearn.decomposition import PCA\n",
    "\n",
    "# Load the data\n",
    "digits_data = datasets.load_digits()\n",
    "n = len(digits_data.images)\n",
    "\n",
    "# Flatten the array as input to PCA\n",
    "image_data = digits_data.images.reshape((n, -1))\n",
    "print(image_data.shape)\n",
    "\n",
    "# Labels\n",
    "labels = digits_data.target\n",
    "print(labels)"
   ]
  },
  {
   "cell_type": "code",
   "execution_count": null,
   "metadata": {},
   "outputs": [],
   "source": [
    "# Fit a PCA Transformer to the dataset\n",
    "# The number of components is automatically chosen to account for atleast 80% of the total variance\n",
    "pca_transformer = PCA(n_components=0.8)\n",
    "pca_images = pca_transformer.fit_transform(image_data)\n",
    "\n",
    "print(pca_transformer.explained_variance_ratio_)\n",
    "print(pca_transfomer.explained_variance_ratio_[:3].sum())"
   ]
  },
  {
   "cell_type": "code",
   "execution_count": null,
   "metadata": {},
   "outputs": [],
   "source": [
    "# Visualize the results\n",
    "import matplotlib.pyplot as plt\n",
    "from mpl_toolkits.mplot3d import Axes3D\n",
    "% matplotlib notebook\n",
    "\n",
    "fig = plt.figure()\n",
    "ax = fig.add_subplot(111, projection = '3d')\n",
    "for i in range(100):\n",
    "    ax.scatter(pca_images[i, 0], pca_images[i, 1], pca_images[i, 2], marker = r'${}$'.format(labels[i]), s= 64)\n",
    "    \n",
    "ax.set_xlabel('Principal Component 1')\n",
    "ax.set_ylabel('Principal Component 2')\n",
    "ax.set_zlabel('Principal Component 3')"
   ]
  }
 ],
 "metadata": {
  "kernelspec": {
   "display_name": "Python 3",
   "language": "python",
   "name": "python3"
  },
  "language_info": {
   "codemirror_mode": {
    "name": "ipython",
    "version": 3
   },
   "file_extension": ".py",
   "mimetype": "text/x-python",
   "name": "python",
   "nbconvert_exporter": "python",
   "pygments_lexer": "ipython3",
   "version": "3.6.5"
  }
 },
 "nbformat": 4,
 "nbformat_minor": 2
}
